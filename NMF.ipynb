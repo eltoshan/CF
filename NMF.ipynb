{
 "metadata": {
  "name": ""
 },
 "nbformat": 3,
 "nbformat_minor": 0,
 "worksheets": [
  {
   "cells": [
    {
     "cell_type": "code",
     "collapsed": false,
     "input": [
      "import numpy as np\n",
      "import pandas as pd\n",
      "\n",
      "\n",
      "class ALSModel():\n",
      "\n",
      "    def __init__(self, ratings, num_factors=20, num_iterations=10,\n",
      "                 reg_param=0.30):\n",
      "        self.Q = ratings\n",
      "        self.m = ratings.shape[0]\n",
      "        self.n = ratings.shape[1]\n",
      "        self.nRatings = np.count_nonzero(ratings)\n",
      "        self.num_factors = num_factors\n",
      "        self.num_iterations = num_iterations\n",
      "        self.reg_param = reg_param\n",
      "        self.W = ratings>0.5\n",
      "        self.W[self.W == True] = 1\n",
      "        self.W[self.W == False] = 0\n",
      "        self.W = self.W.astype(np.float64, copy=False)\n",
      "\n",
      "    def train_model(self):\n",
      "        X = np.random.rand(self.m, self.num_factors) \n",
      "        Y = np.random.rand(self.num_factors, self.n)\n",
      "        Nu = np.sum(self.W, axis=0)\n",
      "        Ni = np.sum(self.W, axis=1)\n",
      "\n",
      "        weighted_errors = []\n",
      "        for ii in range(self.num_iterations):\n",
      "            for u, Wu in enumerate(self.W):\n",
      "                X[u] = np.linalg.solve(np.dot(Y, np.dot(np.diag(Wu), Y.T)) + (Nu[u] * self.reg_param) * np.eye(self.num_factors),\n",
      "                                       np.dot(Y, np.dot(np.diag(Wu), self.Q[u].T))).T\n",
      "            for i, Wi in enumerate(self.W.T):\n",
      "                Y[:,i] = np.linalg.solve(np.dot(X.T, np.dot(np.diag(Wi), X)) + (Ni[i] * self.reg_param) * np.eye(self.num_factors),\n",
      "                                         np.dot(X.T, np.dot(np.diag(Wi), self.Q[:, i])))\n",
      "            # RMSE = np.sqrt(np.sum((self.W * (self.Q - np.dot(X, Y))**2)) / self.nRatings)\n",
      "            print \"%dth iteration is completed\" % (ii+1)\n",
      "            # print \"RMSE = %f\" % RMSE\n",
      "        return factoredModel(X, Y)\n",
      "\n",
      "\n",
      "class factoredModel():\n",
      "\n",
      "    def __init__(self, userMat, itemMat):\n",
      "        self.X = userMat\n",
      "        self.Y = itemMat\n",
      "\n",
      "    def computeRMSE(self, ratings):\n",
      "        Q = ratings\n",
      "        nRatings = np.count_nonzero(ratings)\n",
      "        W = ratings>0.5\n",
      "        W[W == True] = 1\n",
      "        W[W == False] = 0\n",
      "        W = W.astype(np.float64, copy=False)\n",
      "        Qhat = W * np.dot(self.X, self.Y)\n",
      "        RMSE = np.sqrt(np.sum((W * (Q - Qhat)**2)) / nRatings)\n",
      "        return Qhat, RMSE"
     ],
     "language": "python",
     "metadata": {},
     "outputs": [],
     "prompt_number": 1
    },
    {
     "cell_type": "code",
     "collapsed": false,
     "input": [
      "ratings = pd.read_csv(\"./data/nrgRatings.csv\", header=None)\n",
      "ratings.columns = ['climbID','userID','rating']\n",
      "dat = ratings.pivot_table(cols=['climbID'], rows=['userID'], values=['rating'])\n",
      "dat = dat.fillna(0)\n"
     ],
     "language": "python",
     "metadata": {},
     "outputs": [],
     "prompt_number": 2
    },
    {
     "cell_type": "code",
     "collapsed": false,
     "input": [
      "dat.head()"
     ],
     "language": "python",
     "metadata": {},
     "outputs": [
      {
       "html": [
        "<div style=\"max-height:1000px;max-width:1500px;overflow:auto;\">\n",
        "<table border=\"1\" class=\"dataframe\">\n",
        "  <thead>\n",
        "    <tr>\n",
        "      <th></th>\n",
        "      <th colspan=\"20\" halign=\"left\">rating</th>\n",
        "      <th></th>\n",
        "    </tr>\n",
        "    <tr>\n",
        "      <th>climbID</th>\n",
        "      <th>105856047</th>\n",
        "      <th>105856063</th>\n",
        "      <th>105918466</th>\n",
        "      <th>105918469</th>\n",
        "      <th>105918472</th>\n",
        "      <th>105918475</th>\n",
        "      <th>105918478</th>\n",
        "      <th>105943580</th>\n",
        "      <th>105943588</th>\n",
        "      <th>105943593</th>\n",
        "      <th>105943599</th>\n",
        "      <th>105943603</th>\n",
        "      <th>105943609</th>\n",
        "      <th>105943658</th>\n",
        "      <th>105943666</th>\n",
        "      <th>105943677</th>\n",
        "      <th>105943685</th>\n",
        "      <th>105943689</th>\n",
        "      <th>105943693</th>\n",
        "      <th>105943699</th>\n",
        "      <th></th>\n",
        "    </tr>\n",
        "    <tr>\n",
        "      <th>userID</th>\n",
        "      <th></th>\n",
        "      <th></th>\n",
        "      <th></th>\n",
        "      <th></th>\n",
        "      <th></th>\n",
        "      <th></th>\n",
        "      <th></th>\n",
        "      <th></th>\n",
        "      <th></th>\n",
        "      <th></th>\n",
        "      <th></th>\n",
        "      <th></th>\n",
        "      <th></th>\n",
        "      <th></th>\n",
        "      <th></th>\n",
        "      <th></th>\n",
        "      <th></th>\n",
        "      <th></th>\n",
        "      <th></th>\n",
        "      <th></th>\n",
        "    </tr>\n",
        "  </thead>\n",
        "  <tbody>\n",
        "    <tr>\n",
        "      <th>10168</th>\n",
        "      <td> 0</td>\n",
        "      <td> 0</td>\n",
        "      <td> 5</td>\n",
        "      <td> 5</td>\n",
        "      <td> 5</td>\n",
        "      <td> 5</td>\n",
        "      <td> 5</td>\n",
        "      <td> 0</td>\n",
        "      <td> 0</td>\n",
        "      <td> 0</td>\n",
        "      <td> 0</td>\n",
        "      <td> 0</td>\n",
        "      <td> 0</td>\n",
        "      <td> 0</td>\n",
        "      <td> 0</td>\n",
        "      <td> 0</td>\n",
        "      <td> 0</td>\n",
        "      <td> 0</td>\n",
        "      <td> 0</td>\n",
        "      <td> 0</td>\n",
        "      <td>...</td>\n",
        "    </tr>\n",
        "    <tr>\n",
        "      <th>10232</th>\n",
        "      <td> 0</td>\n",
        "      <td> 0</td>\n",
        "      <td> 0</td>\n",
        "      <td> 0</td>\n",
        "      <td> 0</td>\n",
        "      <td> 0</td>\n",
        "      <td> 0</td>\n",
        "      <td> 0</td>\n",
        "      <td> 0</td>\n",
        "      <td> 0</td>\n",
        "      <td> 0</td>\n",
        "      <td> 0</td>\n",
        "      <td> 0</td>\n",
        "      <td> 0</td>\n",
        "      <td> 0</td>\n",
        "      <td> 0</td>\n",
        "      <td> 0</td>\n",
        "      <td> 0</td>\n",
        "      <td> 0</td>\n",
        "      <td> 0</td>\n",
        "      <td>...</td>\n",
        "    </tr>\n",
        "    <tr>\n",
        "      <th>11129</th>\n",
        "      <td> 0</td>\n",
        "      <td> 0</td>\n",
        "      <td> 0</td>\n",
        "      <td> 0</td>\n",
        "      <td> 0</td>\n",
        "      <td> 0</td>\n",
        "      <td> 0</td>\n",
        "      <td> 0</td>\n",
        "      <td> 0</td>\n",
        "      <td> 0</td>\n",
        "      <td> 0</td>\n",
        "      <td> 0</td>\n",
        "      <td> 0</td>\n",
        "      <td> 0</td>\n",
        "      <td> 0</td>\n",
        "      <td> 0</td>\n",
        "      <td> 0</td>\n",
        "      <td> 0</td>\n",
        "      <td> 0</td>\n",
        "      <td> 0</td>\n",
        "      <td>...</td>\n",
        "    </tr>\n",
        "    <tr>\n",
        "      <th>11387</th>\n",
        "      <td> 0</td>\n",
        "      <td> 0</td>\n",
        "      <td> 0</td>\n",
        "      <td> 0</td>\n",
        "      <td> 0</td>\n",
        "      <td> 0</td>\n",
        "      <td> 0</td>\n",
        "      <td> 0</td>\n",
        "      <td> 0</td>\n",
        "      <td> 0</td>\n",
        "      <td> 0</td>\n",
        "      <td> 0</td>\n",
        "      <td> 0</td>\n",
        "      <td> 0</td>\n",
        "      <td> 0</td>\n",
        "      <td> 0</td>\n",
        "      <td> 0</td>\n",
        "      <td> 0</td>\n",
        "      <td> 0</td>\n",
        "      <td> 0</td>\n",
        "      <td>...</td>\n",
        "    </tr>\n",
        "    <tr>\n",
        "      <th>11563</th>\n",
        "      <td> 0</td>\n",
        "      <td> 0</td>\n",
        "      <td> 0</td>\n",
        "      <td> 0</td>\n",
        "      <td> 5</td>\n",
        "      <td> 0</td>\n",
        "      <td> 0</td>\n",
        "      <td> 0</td>\n",
        "      <td> 0</td>\n",
        "      <td> 5</td>\n",
        "      <td> 0</td>\n",
        "      <td> 0</td>\n",
        "      <td> 0</td>\n",
        "      <td> 5</td>\n",
        "      <td> 5</td>\n",
        "      <td> 0</td>\n",
        "      <td> 0</td>\n",
        "      <td> 0</td>\n",
        "      <td> 0</td>\n",
        "      <td> 0</td>\n",
        "      <td>...</td>\n",
        "    </tr>\n",
        "  </tbody>\n",
        "</table>\n",
        "<p>5 rows \u00d7 979 columns</p>\n",
        "</div>"
       ],
       "metadata": {},
       "output_type": "pyout",
       "prompt_number": 3,
       "text": [
        "            rating                                                         \\\n",
        "climbID  105856047  105856063  105918466  105918469  105918472  105918475   \n",
        "userID                                                                      \n",
        "10168            0          0          5          5          5          5   \n",
        "10232            0          0          0          0          0          0   \n",
        "11129            0          0          0          0          0          0   \n",
        "11387            0          0          0          0          0          0   \n",
        "11563            0          0          0          0          5          0   \n",
        "\n",
        "                                                                           \\\n",
        "climbID  105918478  105943580  105943588  105943593  105943599  105943603   \n",
        "userID                                                                      \n",
        "10168            5          0          0          0          0          0   \n",
        "10232            0          0          0          0          0          0   \n",
        "11129            0          0          0          0          0          0   \n",
        "11387            0          0          0          0          0          0   \n",
        "11563            0          0          0          5          0          0   \n",
        "\n",
        "                                                                           \\\n",
        "climbID  105943609  105943658  105943666  105943677  105943685  105943689   \n",
        "userID                                                                      \n",
        "10168            0          0          0          0          0          0   \n",
        "10232            0          0          0          0          0          0   \n",
        "11129            0          0          0          0          0          0   \n",
        "11387            0          0          0          0          0          0   \n",
        "11563            0          5          5          0          0          0   \n",
        "\n",
        "                                   \n",
        "climbID  105943693  105943699      \n",
        "userID                             \n",
        "10168            0          0 ...  \n",
        "10232            0          0 ...  \n",
        "11129            0          0 ...  \n",
        "11387            0          0 ...  \n",
        "11563            0          0 ...  \n",
        "\n",
        "[5 rows x 979 columns]"
       ]
      }
     ],
     "prompt_number": 3
    },
    {
     "cell_type": "code",
     "collapsed": false,
     "input": [
      "    np.random.seed(123123)\n",
      "    n, p = 1, 0.2\n",
      "    test = np.random.binomial(n, p, (dat.shape[0], dat.shape[1]))\n",
      "    train = np.zeros((dat.shape[0], dat.shape[1]))\n",
      "    train[test==0] = 1\n",
      "    test = (test * dat).values\n",
      "    train = (train * dat).values"
     ],
     "language": "python",
     "metadata": {},
     "outputs": [],
     "prompt_number": 4
    },
    {
     "cell_type": "code",
     "collapsed": false,
     "input": [
      "test[:10]"
     ],
     "language": "python",
     "metadata": {},
     "outputs": [
      {
       "metadata": {},
       "output_type": "pyout",
       "prompt_number": 6,
       "text": [
        "array([[ 0.,  0.,  0., ...,  0.,  0.,  0.],\n",
        "       [ 0.,  0.,  0., ...,  0.,  0.,  0.],\n",
        "       [ 0.,  0.,  0., ...,  0.,  0.,  0.],\n",
        "       ..., \n",
        "       [ 0.,  0.,  0., ...,  0.,  0.,  0.],\n",
        "       [ 0.,  0.,  0., ...,  0.,  0.,  0.],\n",
        "       [ 0.,  0.,  0., ...,  0.,  0.,  0.]])"
       ]
      }
     ],
     "prompt_number": 6
    },
    {
     "cell_type": "code",
     "collapsed": false,
     "input": [
      "W = train>0.5\n",
      "W[W == True] = 1\n",
      "W[W == False] = 0\n",
      "W = W.astype(np.float64, copy=False)"
     ],
     "language": "python",
     "metadata": {},
     "outputs": [],
     "prompt_number": 8
    },
    {
     "cell_type": "code",
     "collapsed": false,
     "input": [
      "W.shape"
     ],
     "language": "python",
     "metadata": {},
     "outputs": [
      {
       "metadata": {},
       "output_type": "pyout",
       "prompt_number": 9,
       "text": [
        "(839, 979)"
       ]
      }
     ],
     "prompt_number": 9
    },
    {
     "cell_type": "code",
     "collapsed": false,
     "input": [
      "Nu = np.sum(W, axis=1)"
     ],
     "language": "python",
     "metadata": {},
     "outputs": [],
     "prompt_number": 10
    },
    {
     "cell_type": "code",
     "collapsed": false,
     "input": [
      "Nu.shape"
     ],
     "language": "python",
     "metadata": {},
     "outputs": [
      {
       "metadata": {},
       "output_type": "pyout",
       "prompt_number": 11,
       "text": [
        "(839,)"
       ]
      }
     ],
     "prompt_number": 11
    },
    {
     "cell_type": "code",
     "collapsed": false,
     "input": [
      "Ni = np.sum(W, axis=0)\n",
      "Ni.shape"
     ],
     "language": "python",
     "metadata": {},
     "outputs": [
      {
       "metadata": {},
       "output_type": "pyout",
       "prompt_number": 12,
       "text": [
        "(979,)"
       ]
      }
     ],
     "prompt_number": 12
    },
    {
     "cell_type": "code",
     "collapsed": false,
     "input": [
      "Nu[1]"
     ],
     "language": "python",
     "metadata": {},
     "outputs": [
      {
       "metadata": {},
       "output_type": "pyout",
       "prompt_number": 13,
       "text": [
        "5.0"
       ]
      }
     ],
     "prompt_number": 13
    },
    {
     "cell_type": "code",
     "collapsed": false,
     "input": [
      "Ni[1]"
     ],
     "language": "python",
     "metadata": {},
     "outputs": [
      {
       "metadata": {},
       "output_type": "pyout",
       "prompt_number": 14,
       "text": [
        "44.0"
       ]
      }
     ],
     "prompt_number": 14
    },
    {
     "cell_type": "code",
     "collapsed": false,
     "input": [
      "Nu[Nu==0]"
     ],
     "language": "python",
     "metadata": {},
     "outputs": [
      {
       "metadata": {},
       "output_type": "pyout",
       "prompt_number": 15,
       "text": [
        "array([ 0.,  0.,  0.,  0.,  0.,  0.,  0.,  0.,  0.,  0.,  0.,  0.,  0.,\n",
        "        0.,  0.,  0.,  0.,  0.,  0.,  0.,  0.,  0.,  0.,  0.,  0.,  0.,\n",
        "        0.,  0.,  0.,  0.])"
       ]
      }
     ],
     "prompt_number": 15
    },
    {
     "cell_type": "code",
     "collapsed": false,
     "input": [
      "Ni[Ni==0]"
     ],
     "language": "python",
     "metadata": {},
     "outputs": [
      {
       "metadata": {},
       "output_type": "pyout",
       "prompt_number": 16,
       "text": [
        "array([ 0.,  0.,  0.,  0.,  0.,  0.,  0.,  0.,  0.,  0.,  0.,  0.,  0.,\n",
        "        0.,  0.,  0.,  0.,  0.,  0.,  0.,  0.,  0.,  0.,  0.,  0.,  0.,\n",
        "        0.,  0.,  0.,  0.,  0.,  0.,  0.,  0.,  0.,  0.,  0.,  0.,  0.,\n",
        "        0.,  0.,  0.,  0.])"
       ]
      }
     ],
     "prompt_number": 16
    },
    {
     "cell_type": "code",
     "collapsed": false,
     "input": [],
     "language": "python",
     "metadata": {},
     "outputs": []
    }
   ],
   "metadata": {}
  }
 ]
}